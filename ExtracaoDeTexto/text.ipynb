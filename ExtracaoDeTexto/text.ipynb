{
 "cells": [
  {
   "cell_type": "code",
   "execution_count": 1,
   "metadata": {},
   "outputs": [],
   "source": [
    "import cv2 as cv\n",
    "import pytesseract\n",
    "import easyocr\n",
    "\n",
    "# pip install pytesseract\n",
    "# https://github.com/UB-Mannheim/tesseract/wiki"
   ]
  },
  {
   "cell_type": "code",
   "execution_count": 8,
   "metadata": {},
   "outputs": [],
   "source": [
    "pytesseract.pytesseract.tesseract_cmd = r'C:\\Program Files\\Tesseract-OCR\\tesseract.exe'"
   ]
  },
  {
   "cell_type": "code",
   "execution_count": 10,
   "metadata": {},
   "outputs": [
    {
     "name": "stdout",
     "output_type": "stream",
     "text": [
      "WHATEVER DIRE\n",
      "EMERGENCY AWAITS,\n",
      "AT LEAST I WILL\n",
      "FACE !TIN...\n",
      "\n"
     ]
    }
   ],
   "source": [
    "image = cv.imread('bubble2.png')\n",
    "gray = cv.cvtColor(image, cv.COLOR_BGR2GRAY)\n",
    "thresholded = cv.threshold(gray, 0, 255, cv.THRESH_BINARY | cv.THRESH_OTSU)[1]\n",
    "\n",
    "text = pytesseract.image_to_string(thresholded)\n",
    "\n",
    "print(text)"
   ]
  },
  {
   "cell_type": "code",
   "execution_count": 2,
   "metadata": {},
   "outputs": [
    {
     "name": "stderr",
     "output_type": "stream",
     "text": [
      "Neither CUDA nor MPS are available - defaulting to CPU. Note: This module is much faster with a GPU.\n",
      "Downloading detection model, please wait. This may take several minutes depending upon your network connection.\n"
     ]
    },
    {
     "name": "stdout",
     "output_type": "stream",
     "text": [
      "Progress: |██████████████████████████████████████████████████| 100.0% Complete"
     ]
    },
    {
     "name": "stderr",
     "output_type": "stream",
     "text": [
      "Downloading recognition model, please wait. This may take several minutes depending upon your network connection.\n"
     ]
    },
    {
     "name": "stdout",
     "output_type": "stream",
     "text": [
      "Progress: |██████████████████████████████████████████████████| 100.0% Complete"
     ]
    }
   ],
   "source": [
    "reader = easyocr.Reader(['ch_sim','en'])"
   ]
  },
  {
   "cell_type": "code",
   "execution_count": 4,
   "metadata": {},
   "outputs": [
    {
     "name": "stdout",
     "output_type": "stream",
     "text": [
      "[([[76, 18], [290, 18], [290, 46], [76, 46]], 'WHATEVEROIRE', 0.9630050877658545), ([[38, 43], [316, 43], [316, 74], [38, 74]], 'EMEREENCY AWAITS', 0.43734414536577737), ([[36, 71], [206, 71], [206, 99], [36, 99]], 'AT LEAST I', 0.6166139436466789), ([[216, 72], [284, 72], [284, 100], [216, 100]], 'WILL', 0.990445613861084), ([[74, 98], [218, 98], [218, 126], [74, 126]], 'FACE ITIN', 0.9720243773001402), ([[202, 152], [256, 152], [256, 178], [202, 178]], 'THE', 0.9848814010620117), ([[160, 176], [290, 176], [290, 206], [160, 206]], 'COMPANY', 0.8246047909213003), ([[180, 270], [250, 270], [250, 296], [180, 296]], 'GOoD。', 0.22305198506603058)]\n"
     ]
    }
   ],
   "source": [
    "result = reader.readtext('bubble2.png')\n",
    "print(result)"
   ]
  }
 ],
 "metadata": {
  "kernelspec": {
   "display_name": "Python 3",
   "language": "python",
   "name": "python3"
  },
  "language_info": {
   "codemirror_mode": {
    "name": "ipython",
    "version": 3
   },
   "file_extension": ".py",
   "mimetype": "text/x-python",
   "name": "python",
   "nbconvert_exporter": "python",
   "pygments_lexer": "ipython3",
   "version": "3.11.3"
  }
 },
 "nbformat": 4,
 "nbformat_minor": 2
}
