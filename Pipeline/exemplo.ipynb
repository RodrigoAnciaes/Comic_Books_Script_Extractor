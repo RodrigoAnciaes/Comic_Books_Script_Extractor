{
 "cells": [
  {
   "cell_type": "code",
   "execution_count": 8,
   "metadata": {},
   "outputs": [],
   "source": [
    "import comics_lib as f\n",
    "from pathlib import Path"
   ]
  },
  {
   "cell_type": "code",
   "execution_count": 9,
   "metadata": {},
   "outputs": [
    {
     "name": "stdout",
     "output_type": "stream",
     "text": [
      "\n",
      "0: 640x640 6 General_speechs, 9 narration speechs, 186.5ms\n",
      "Speed: 0.0ms preprocess, 186.5ms inference, 0.0ms postprocess per image at shape (1, 3, 640, 640)\n",
      "Processed 10 images. Overlays saved to 'generate_output_balloons_unity\\overlays', Detections saved to 'generate_output_balloons_unity\\detections', and Masks saved to 'generate_output_balloons_unity\\masks',and Speech balloons saved to 'speech_balloons' folder.\n",
      "\n",
      "0: 640x640 3 Gambits, 3 Rogues, 18.4ms\n",
      "Speed: 0.0ms preprocess, 18.4ms inference, 0.0ms postprocess per image at shape (1, 3, 640, 640)\n",
      "Processed 10 images. Overlays saved to 'generate_output_personagens_unity\\overlays', Detections saved to 'generate_output_personagens_unity\\detections', and Masks saved to 'generate_output_personagens_unity\\masks',and Speech personagens saved to 'personagens' folder.\n"
     ]
    }
   ],
   "source": [
    "image = Path(\"C:/Users/rodri/Documents/Rodrigo/Insper/SetimoSemestre/VComp/CompVision/Projeto/Comic_Books_Script_Extractor/Pipeline/generate_input/0019_jpg.rf.0b3de368698d2f066257fcf8dbe5a0a3.jpg\")\n",
    "f.generateUnityBalloons(image)\n",
    "f.generateUnityPersonagens(image)"
   ]
  },
  {
   "cell_type": "code",
   "execution_count": null,
   "metadata": {},
   "outputs": [],
   "source": []
  }
 ],
 "metadata": {
  "kernelspec": {
   "display_name": "mirror",
   "language": "python",
   "name": "python3"
  },
  "language_info": {
   "codemirror_mode": {
    "name": "ipython",
    "version": 3
   },
   "file_extension": ".py",
   "mimetype": "text/x-python",
   "name": "python",
   "nbconvert_exporter": "python",
   "pygments_lexer": "ipython3",
   "version": "3.11.7"
  }
 },
 "nbformat": 4,
 "nbformat_minor": 2
}
