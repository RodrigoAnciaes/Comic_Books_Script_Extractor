{
 "cells": [
  {
   "cell_type": "code",
   "execution_count": 2,
   "metadata": {},
   "outputs": [],
   "source": [
    "import comics_lib as f\n",
    "from pathlib import Path"
   ]
  },
  {
   "cell_type": "code",
   "execution_count": 3,
   "metadata": {},
   "outputs": [],
   "source": [
    "image = Path(\"C:/Users/rodri/Documents/Rodrigo/Insper/SetimoSemestre/VComp/CompVision/Projeto/Comic_Books_Script_Extractor/Pipeline/generate_input/0019_jpg.rf.0b3de368698d2f066257fcf8dbe5a0a3.jpg\")"
   ]
  },
  {
   "cell_type": "code",
   "execution_count": null,
   "metadata": {},
   "outputs": [],
   "source": [
    "\n",
    "f.generateUnityBalloons(image)\n",
    "f.generateUnityPersonagens(image)"
   ]
  },
  {
   "cell_type": "code",
   "execution_count": 3,
   "metadata": {},
   "outputs": [
    {
     "name": "stdout",
     "output_type": "stream",
     "text": [
      "\n",
      "0: 640x640 3 Gambits, 3 Rogues, 13.8ms\n",
      "Speed: 0.0ms preprocess, 13.8ms inference, 0.8ms postprocess per image at shape (1, 3, 640, 640)\n",
      "Gambit 0.96\n",
      "Gambit 0.89\n",
      "Rogue 0.86\n",
      "Rogue 0.84\n",
      "Rogue 0.56\n",
      "Gambit 0.51\n",
      "\n",
      "0: 640x640 6 General_speechs, 9 narration speechs, 6.6ms\n",
      "Speed: 2.0ms preprocess, 6.6ms inference, 5.9ms postprocess per image at shape (1, 3, 640, 640)\n",
      "General_speech 0.93\n",
      "General_speech 0.93\n",
      "General_speech 0.92\n",
      "narration speech 0.91\n",
      "General_speech 0.90\n",
      "General_speech 0.89\n",
      "General_speech 0.86\n",
      "narration speech 0.83\n",
      "narration speech 0.82\n",
      "narration speech 0.81\n",
      "narration speech 0.80\n",
      "narration speech 0.76\n",
      "narration speech 0.59\n",
      "narration speech 0.43\n",
      "narration speech 0.31\n"
     ]
    }
   ],
   "source": [
    "f.generate_prob_unity_personagens(image)\n",
    "f.generate_prob_unity_balloons(image)"
   ]
  },
  {
   "cell_type": "code",
   "execution_count": 5,
   "metadata": {},
   "outputs": [
    {
     "name": "stdout",
     "output_type": "stream",
     "text": [
      "[-173   81]\n"
     ]
    }
   ],
   "source": [
    "image2 = Path('bubble2.png')\n",
    "direction = f.bubble_seg_eq(image2)\n",
    "print(direction)"
   ]
  }
 ],
 "metadata": {
  "kernelspec": {
   "display_name": "mirror",
   "language": "python",
   "name": "python3"
  },
  "language_info": {
   "codemirror_mode": {
    "name": "ipython",
    "version": 3
   },
   "file_extension": ".py",
   "mimetype": "text/x-python",
   "name": "python",
   "nbconvert_exporter": "python",
   "pygments_lexer": "ipython3",
   "version": "3.11.7"
  }
 },
 "nbformat": 4,
 "nbformat_minor": 2
}
